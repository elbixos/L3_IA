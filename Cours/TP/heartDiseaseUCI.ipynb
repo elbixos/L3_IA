{
  "nbformat": 4,
  "nbformat_minor": 0,
  "metadata": {
    "colab": {
      "name": "heartDiseaseUCI.ipynb",
      "provenance": [],
      "collapsed_sections": [],
      "authorship_tag": "ABX9TyOdUpFDqElc3vMLJfRoJtIX",
      "include_colab_link": true
    },
    "kernelspec": {
      "name": "python3",
      "display_name": "Python 3"
    }
  },
  "cells": [
    {
      "cell_type": "markdown",
      "metadata": {
        "id": "view-in-github",
        "colab_type": "text"
      },
      "source": [
        "<a href=\"https://colab.research.google.com/github/elbixos/L3_IA/blob/master/Cours/TP/heartDiseaseUCI.ipynb\" target=\"_parent\"><img src=\"https://colab.research.google.com/assets/colab-badge.svg\" alt=\"Open In Colab\"/></a>"
      ]
    },
    {
      "cell_type": "markdown",
      "metadata": {
        "id": "r-6TfLwy4omj",
        "colab_type": "text"
      },
      "source": [
        "# Licence Info 3, cours d'Intelligence Artificielle, université des Antilles\n",
        "## Travaux Pratiques sur la base Heart Disease UCI / Cleveland\n",
        "\n",
        "### La base Hear Disease Cleveland\n",
        "\n",
        "Cette base provient d'ici : [https://www.kaggle.com/ronitf/heart-disease-uci](https://https://www.kaggle.com/ronitf/heart-disease-uci)\n",
        "\n",
        "\n",
        "Elle contient 303 exemples concernant des patients atteints ou non d'un problème cardiaque. Elle est contenue dans un fichier **csv** dont voici les détails :\n",
        "\n",
        "#### colonnes du fichier csv\n",
        "Je les numérote à partir de zéros, car les programmes plus loin utiliseront cette convention...\n",
        "\n",
        "0. age\n",
        "1. sex (1 for male, 0 female)\n",
        "2. chest pain type (4 values)\n",
        "3. resting blood pressure\n",
        "4. serum cholestoral in mg/dl\n",
        "5. fasting blood sugar > 120 mg/dl\n",
        "6. resting electrocardiographic results (values 0,1,2)\n",
        "7. maximum heart rate achieved\n",
        "8. exercise induced angina\n",
        "9. oldpeak = ST depression induced by exercise relative to rest\n",
        "10. the slope of the peak exercise ST segment\n",
        "11. number of major vessels (0-3) colored by flourosopy\n",
        "12. thal: 3 = normal; 6 = fixed defect; 7 = reversable defect\n",
        "13. target : presence of heart disease in the patient. It is integer valued from 0 (no presence) to 4.\n",
        "\n",
        "#### Description du problème \n",
        "\n",
        "Dans un premier temps, on pourra essayer de faire un programme, qui, connaissant les informations de 0 à 12, essaye de deviner si le patient à un probleme cardiaque (col 13 !=0) ou non (col 13 == 1)\n",
        "\n",
        "**Question :** Quel type de problème voulons nous résoudre (clustering, classification, régression) ?\n",
        "\n",
        "#### téléchargement du fichier csv\n",
        "\n",
        "nous allons tout d'abord récuperer ce fichier.\n",
        "\n",
        "\n",
        "*Je vous rappelle que vous pouvez executer tout ce code. Vous pouvez meme modifier le code ou le texte de ce fichier, cela ne modifiera que votre copie du fichier (pas ma version...)*\n"
      ]
    },
    {
      "cell_type": "code",
      "metadata": {
        "id": "_kNxGzNN4jAX",
        "colab_type": "code",
        "colab": {
          "base_uri": "https://localhost:8080/",
          "height": 228
        },
        "outputId": "8f108944-5e3e-49f1-d708-1ed9665c68af"
      },
      "source": [
        "import numpy as np\n",
        "import pandas as pd\n",
        "\n",
        "url=\"https://raw.githubusercontent.com/elbixos/L3_IA/master/Preparation/HeartDiseasesUCI/heart.csv\"\n",
        "\n",
        "!wget $url"
      ],
      "execution_count": 1,
      "outputs": [
        {
          "output_type": "stream",
          "text": [
            "--2020-03-25 20:52:47--  https://raw.githubusercontent.com/elbixos/L3_IA/master/Preparation/HeartDiseasesUCI/heart.csv\n",
            "Resolving raw.githubusercontent.com (raw.githubusercontent.com)... 151.101.0.133, 151.101.64.133, 151.101.128.133, ...\n",
            "Connecting to raw.githubusercontent.com (raw.githubusercontent.com)|151.101.0.133|:443... connected.\n",
            "HTTP request sent, awaiting response... 200 OK\n",
            "Length: 11328 (11K) [text/plain]\n",
            "Saving to: ‘heart.csv.1’\n",
            "\n",
            "\rheart.csv.1           0%[                    ]       0  --.-KB/s               \rheart.csv.1         100%[===================>]  11.06K  --.-KB/s    in 0s      \n",
            "\n",
            "2020-03-25 20:52:47 (89.8 MB/s) - ‘heart.csv.1’ saved [11328/11328]\n",
            "\n"
          ],
          "name": "stdout"
        }
      ]
    },
    {
      "cell_type": "markdown",
      "metadata": {
        "id": "z0-04g089kzE",
        "colab_type": "text"
      },
      "source": [
        "#### Lecture du fichier\n",
        "\n",
        "Il s'agit maintenant de lire le fichier pour stocker les données.\n",
        "\n",
        "Pour le stockage, l'exemple qui suit utilise un *Panda Dataframe*,\n",
        "qui permet de stocker des données bi dimensionnelles hétérogènes et de les manipuler de façon facile.\n",
        "\n",
        "\n"
      ]
    },
    {
      "cell_type": "code",
      "metadata": {
        "id": "1B1UaC8WAaXp",
        "colab_type": "code",
        "colab": {
          "base_uri": "https://localhost:8080/",
          "height": 347
        },
        "outputId": "2c214bed-6314-492f-e873-d28c48e177c5"
      },
      "source": [
        "filename=\"heart.csv\"\n",
        "data = pd.read_csv(filename)\n",
        "\n",
        "data.info()"
      ],
      "execution_count": 2,
      "outputs": [
        {
          "output_type": "stream",
          "text": [
            "<class 'pandas.core.frame.DataFrame'>\n",
            "RangeIndex: 303 entries, 0 to 302\n",
            "Data columns (total 14 columns):\n",
            "age         303 non-null int64\n",
            "sex         303 non-null int64\n",
            "cp          303 non-null int64\n",
            "trestbps    303 non-null int64\n",
            "chol        303 non-null int64\n",
            "fbs         303 non-null int64\n",
            "restecg     303 non-null int64\n",
            "thalach     303 non-null int64\n",
            "exang       303 non-null int64\n",
            "oldpeak     303 non-null float64\n",
            "slope       303 non-null int64\n",
            "ca          303 non-null int64\n",
            "thal        303 non-null int64\n",
            "target      303 non-null int64\n",
            "dtypes: float64(1), int64(13)\n",
            "memory usage: 33.3 KB\n"
          ],
          "name": "stdout"
        }
      ]
    },
    {
      "cell_type": "markdown",
      "metadata": {
        "id": "E2fI1Aa8C5Hx",
        "colab_type": "text"
      },
      "source": [
        "On voit que chaque colonne est nommée.\n",
        "\n",
        "Voici encore quelques informations sur ces données :\n",
        "- la taille de la base\n",
        "- les 4 premiers exemples\n"
      ]
    },
    {
      "cell_type": "code",
      "metadata": {
        "id": "a06gqu_ODIJs",
        "colab_type": "code",
        "colab": {
          "base_uri": "https://localhost:8080/",
          "height": 192
        },
        "outputId": "c58c23d4-fbb0-4d2f-ffca-ffe64cc31353"
      },
      "source": [
        "print(data.shape)\n",
        "data.head(4)\n"
      ],
      "execution_count": 3,
      "outputs": [
        {
          "output_type": "stream",
          "text": [
            "(303, 14)\n"
          ],
          "name": "stdout"
        },
        {
          "output_type": "execute_result",
          "data": {
            "text/html": [
              "<div>\n",
              "<style scoped>\n",
              "    .dataframe tbody tr th:only-of-type {\n",
              "        vertical-align: middle;\n",
              "    }\n",
              "\n",
              "    .dataframe tbody tr th {\n",
              "        vertical-align: top;\n",
              "    }\n",
              "\n",
              "    .dataframe thead th {\n",
              "        text-align: right;\n",
              "    }\n",
              "</style>\n",
              "<table border=\"1\" class=\"dataframe\">\n",
              "  <thead>\n",
              "    <tr style=\"text-align: right;\">\n",
              "      <th></th>\n",
              "      <th>age</th>\n",
              "      <th>sex</th>\n",
              "      <th>cp</th>\n",
              "      <th>trestbps</th>\n",
              "      <th>chol</th>\n",
              "      <th>fbs</th>\n",
              "      <th>restecg</th>\n",
              "      <th>thalach</th>\n",
              "      <th>exang</th>\n",
              "      <th>oldpeak</th>\n",
              "      <th>slope</th>\n",
              "      <th>ca</th>\n",
              "      <th>thal</th>\n",
              "      <th>target</th>\n",
              "    </tr>\n",
              "  </thead>\n",
              "  <tbody>\n",
              "    <tr>\n",
              "      <th>0</th>\n",
              "      <td>63</td>\n",
              "      <td>1</td>\n",
              "      <td>3</td>\n",
              "      <td>145</td>\n",
              "      <td>233</td>\n",
              "      <td>1</td>\n",
              "      <td>0</td>\n",
              "      <td>150</td>\n",
              "      <td>0</td>\n",
              "      <td>2.3</td>\n",
              "      <td>0</td>\n",
              "      <td>0</td>\n",
              "      <td>1</td>\n",
              "      <td>1</td>\n",
              "    </tr>\n",
              "    <tr>\n",
              "      <th>1</th>\n",
              "      <td>37</td>\n",
              "      <td>1</td>\n",
              "      <td>2</td>\n",
              "      <td>130</td>\n",
              "      <td>250</td>\n",
              "      <td>0</td>\n",
              "      <td>1</td>\n",
              "      <td>187</td>\n",
              "      <td>0</td>\n",
              "      <td>3.5</td>\n",
              "      <td>0</td>\n",
              "      <td>0</td>\n",
              "      <td>2</td>\n",
              "      <td>1</td>\n",
              "    </tr>\n",
              "    <tr>\n",
              "      <th>2</th>\n",
              "      <td>41</td>\n",
              "      <td>0</td>\n",
              "      <td>1</td>\n",
              "      <td>130</td>\n",
              "      <td>204</td>\n",
              "      <td>0</td>\n",
              "      <td>0</td>\n",
              "      <td>172</td>\n",
              "      <td>0</td>\n",
              "      <td>1.4</td>\n",
              "      <td>2</td>\n",
              "      <td>0</td>\n",
              "      <td>2</td>\n",
              "      <td>1</td>\n",
              "    </tr>\n",
              "    <tr>\n",
              "      <th>3</th>\n",
              "      <td>56</td>\n",
              "      <td>1</td>\n",
              "      <td>1</td>\n",
              "      <td>120</td>\n",
              "      <td>236</td>\n",
              "      <td>0</td>\n",
              "      <td>1</td>\n",
              "      <td>178</td>\n",
              "      <td>0</td>\n",
              "      <td>0.8</td>\n",
              "      <td>2</td>\n",
              "      <td>0</td>\n",
              "      <td>2</td>\n",
              "      <td>1</td>\n",
              "    </tr>\n",
              "  </tbody>\n",
              "</table>\n",
              "</div>"
            ],
            "text/plain": [
              "   age  sex  cp  trestbps  chol  fbs  ...  exang  oldpeak  slope  ca  thal  target\n",
              "0   63    1   3       145   233    1  ...      0      2.3      0   0     1       1\n",
              "1   37    1   2       130   250    0  ...      0      3.5      0   0     2       1\n",
              "2   41    0   1       130   204    0  ...      0      1.4      2   0     2       1\n",
              "3   56    1   1       120   236    0  ...      0      0.8      2   0     2       1\n",
              "\n",
              "[4 rows x 14 columns]"
            ]
          },
          "metadata": {
            "tags": []
          },
          "execution_count": 3
        }
      ]
    },
    {
      "cell_type": "markdown",
      "metadata": {
        "id": "4n2tvaNjFJnm",
        "colab_type": "text"
      },
      "source": [
        "#### Récupération d'une colonne\n",
        "\n",
        "En fait, la manipulation des données nécessitera sans doute d'aller fouiller un peu la documentation des panda Dataframe. Vous pouvez par exemple aller voir ceci : [https://pandas.pydata.org/pandas-docs/stable/getting_started/10min.html](https://pandas.pydata.org/pandas-docs/stable/getting_started/10min.html)\n",
        "\n",
        "En attendant voici déja comment récuperer une colonne."
      ]
    },
    {
      "cell_type": "code",
      "metadata": {
        "id": "vvK_AMCSE3Qy",
        "colab_type": "code",
        "colab": {
          "base_uri": "https://localhost:8080/",
          "height": 243
        },
        "outputId": "9c6900bd-6362-4dcb-c59f-4e7feea440ae"
      },
      "source": [
        "x = data.age\n",
        "print (x)\n",
        "print(type(x))\n"
      ],
      "execution_count": 4,
      "outputs": [
        {
          "output_type": "stream",
          "text": [
            "0      63\n",
            "1      37\n",
            "2      41\n",
            "3      56\n",
            "4      57\n",
            "       ..\n",
            "298    57\n",
            "299    45\n",
            "300    68\n",
            "301    57\n",
            "302    57\n",
            "Name: age, Length: 303, dtype: int64\n",
            "<class 'pandas.core.series.Series'>\n"
          ],
          "name": "stdout"
        }
      ]
    },
    {
      "cell_type": "markdown",
      "metadata": {
        "id": "EsufNYD2Khu6",
        "colab_type": "text"
      },
      "source": [
        "Tracons maintenant un nuage de points 2D de ces données.\n",
        "Par exemple, la répartition age, cholesterol\n",
        "\n",
        "Vous pourrez trouver un tutoriel sur le tracé de courbes ici :\n",
        "[https://matplotlib.org/tutorials/introductory/usage.html#sphx-glr-tutorials-introductory-usage-py](https://matplotlib.org/tutorials/introductory/usage.html#sphx-glr-tutorials-introductory-usage-py)"
      ]
    },
    {
      "cell_type": "code",
      "metadata": {
        "id": "_vXx_PGUKwkI",
        "colab_type": "code",
        "colab": {
          "base_uri": "https://localhost:8080/",
          "height": 265
        },
        "outputId": "51094ae9-f488-4bdc-ec5b-3eac5dfad76a"
      },
      "source": [
        "import matplotlib.pyplot as plt\n",
        "\n",
        "plt.plot(data.age,data.chol,)\n",
        "plt.show()"
      ],
      "execution_count": 5,
      "outputs": [
        {
          "output_type": "display_data",
          "data": {
            "image/png": "[encoded data removed]",
            "text/plain": [
              "<Figure size 432x288 with 1 Axes>"
            ]
          },
          "metadata": {
            "tags": []
          }
        }
      ]
    },
    {
      "cell_type": "markdown",
      "metadata": {
        "id": "9UVXdSyuMxGt",
        "colab_type": "text"
      },
      "source": [
        "C'est moche, puisque le plot trace par défaut une ligne entre tous les points. Voici une version plus jolie...\n",
        "\n",
        "Pour tracer le nuage de points, on utilise scatter."
      ]
    },
    {
      "cell_type": "code",
      "metadata": {
        "id": "naKDqDUtMwFL",
        "colab_type": "code",
        "colab": {
          "base_uri": "https://localhost:8080/",
          "height": 458
        },
        "outputId": "c38c3a1d-922d-40e8-9879-f6fa88c0a3b7"
      },
      "source": [
        "# Ici, j'utilise subplot, qui renvoie :\n",
        "#   - fig : la figure\n",
        "#   - ax : le tuple des sous figures (les sous figures sont appelées axes en matplotlib)\n",
        "#\n",
        "#   comme je ne passe pas de parametres à subplot, il n'y aura qu'une sous figure\n",
        "#   et ax ne sera pas un tuple, mais la sous figure unique.\n",
        "\n",
        "fig, ax = plt.subplots(figsize=(7,7))  # Create a figure and an axes.\n",
        "ax.scatter(data.age, data.chol, marker='.',  label='patients')\n",
        "# Plot some data on the axes.\n",
        "ax.set_xlabel('age')  # Add an x-label to the axes.\n",
        "ax.set_ylabel('cholesterol')  # Add a y-label to the axes.\n",
        "ax.set_title(\"Mon beau graphique\")  # Add a title to the axes.\n",
        "ax.legend();  # Add a legend."
      ],
      "execution_count": 20,
      "outputs": [
        {
          "output_type": "display_data",
          "data": {
            "image/png": "[encoded data removed]",
            "text/plain": [
              "<Figure size 504x504 with 1 Axes>"
            ]
          },
          "metadata": {
            "tags": []
          }
        }
      ]
    },
    {
      "cell_type": "markdown",
      "metadata": {
        "id": "NiGoq8qKRnhE",
        "colab_type": "text"
      },
      "source": [
        "Pour en finir pour le moment avec le tracé de courbes, voici un double graphique dans une seule figure qui devrait vous aider à couvrir un certain nombre de vos besoins.\n",
        "\n",
        "je trace sur la figure de gauche\n",
        "- en rouge, le nuage (age, chol) des hommes\n",
        "- en bleu, le nuage (age, chol) des femmes\n",
        "\n",
        "je trace sur la figure de gauche\n",
        "- en vert, le nuage (age,thalac) des hommes\n",
        "- en jaune, le nuage (age,thalac) des femmes\n",
        "\n"
      ]
    },
    {
      "cell_type": "code",
      "metadata": {
        "id": "HKy4X71DYCBf",
        "colab_type": "code",
        "colab": {
          "base_uri": "https://localhost:8080/",
          "height": 350
        },
        "outputId": "d7cff795-48c4-4601-9958-b2df8a8bc3f5"
      },
      "source": [
        "# séparation homme femmes\n",
        "hommes= data[data.sex == 1]\n",
        "femmes= data[data.sex == 0]\n",
        "\n",
        "# la figure est un ensemble de sous figure organisé comme suit:\n",
        "#   1 ligne, 2 colonnes\n",
        "fig, ax = plt.subplots(1,2,figsize=(10,5))  # Create a figure and an axes.\n",
        "\n",
        "# ax est maintenant un tuple de deux sous figures.\n",
        "\n",
        "# figure de gauche\n",
        "ax[0].scatter(hommes.age, hommes.chol, color='r', marker='.',  label='hommes')\n",
        "ax[0].scatter(femmes.age, femmes.chol, color='b',marker='.',  label='femmes')\n",
        "\n",
        "ax[0].set_xlabel('age')  # Add an x-label to the axes.\n",
        "ax[0].set_ylabel('cholesterol')  # Add a y-label to the axes.\n",
        "ax[0].set_title(\"Age / Cholesterol\")  # Add a title to the axes.\n",
        "ax[0].legend()  # Add a legend.\n",
        "\n",
        "# figure de droite\n",
        "ax[1].scatter(hommes.age, hommes.thalach, color='g', marker='.',  label='hommes')\n",
        "ax[1].scatter(femmes.age, femmes.thalach, color='y', marker='.',  label='femmes')\n",
        "\n",
        "ax[1].set_xlabel('age')  # Add an x-label to the axes.\n",
        "ax[1].set_ylabel('rythme cardiaque')  # Add a y-label to the axes.\n",
        "ax[1].set_title(\"Age / Rythme cardiaque\")  # Add a title to the axes.\n",
        "ax[1].legend();  # Add a legend.\n"
      ],
      "execution_count": 19,
      "outputs": [
        {
          "output_type": "display_data",
          "data": {
            "image/png": "[encoded data removed]",
            "text/plain": [
              "<Figure size 720x360 with 2 Axes>"
            ]
          },
          "metadata": {
            "tags": []
          }
        }
      ]
    },
    {
      "cell_type": "markdown",
      "metadata": {
        "id": "-ddxTCODgBBr",
        "colab_type": "text"
      },
      "source": [
        "J'espere que vous avez noté la facilité avec laquelle on selectionne des exemples dans la base...\n",
        "\n",
        "Je vais en profiter pour sauver la figure dans un fichier png pour l'incorporer dans un rapport eventuel ou un site web...\n",
        "\n",
        "Vous pouvez retrouver ce fichier en cliquant sur l'icone de répertoire, à gauche de ce texte..."
      ]
    },
    {
      "cell_type": "code",
      "metadata": {
        "id": "v-3hd_P3jkdE",
        "colab_type": "code",
        "colab": {
          "base_uri": "https://localhost:8080/",
          "height": 34
        },
        "outputId": "34abf23b-8355-4f85-e994-2ae34bcf82e3"
      },
      "source": [
        "plt.savefig('figureDeOuf.png')"
      ],
      "execution_count": 21,
      "outputs": [
        {
          "output_type": "display_data",
          "data": {
            "text/plain": [
              "<Figure size 432x288 with 0 Axes>"
            ]
          },
          "metadata": {
            "tags": []
          }
        }
      ]
    }
  ]
}